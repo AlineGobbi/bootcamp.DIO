{
 "cells": [
  {
   "cell_type": "code",
   "execution_count": 1,
   "id": "90a4e1a4",
   "metadata": {},
   "outputs": [
    {
     "name": "stdout",
     "output_type": "stream",
     "text": [
      "Qual o nome do restaurante? aline\n",
      "Qual o tempo de entrega do restaurante? 20\n",
      "O restaurante aline entrega em 20 minutos.\n"
     ]
    }
   ],
   "source": [
    "nomeRestaurante = input(\"Qual o nome do restaurante? \")\n",
    "\n",
    "tempoEstimadoEntrega = int(input(\"Qual o tempo de entrega do restaurante? \"))\n",
    "\n",
    "print(f\"O restaurante {nomeRestaurante} entrega em {tempoEstimadoEntrega} minutos.\")"
   ]
  },
  {
   "cell_type": "code",
   "execution_count": null,
   "id": "e72cb0af",
   "metadata": {},
   "outputs": [],
   "source": []
  }
 ],
 "metadata": {
  "kernelspec": {
   "display_name": "Python 3 (ipykernel)",
   "language": "python",
   "name": "python3"
  },
  "language_info": {
   "codemirror_mode": {
    "name": "ipython",
    "version": 3
   },
   "file_extension": ".py",
   "mimetype": "text/x-python",
   "name": "python",
   "nbconvert_exporter": "python",
   "pygments_lexer": "ipython3",
   "version": "3.10.9"
  }
 },
 "nbformat": 4,
 "nbformat_minor": 5
}
